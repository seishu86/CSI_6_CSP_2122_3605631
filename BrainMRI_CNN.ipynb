{
  "nbformat": 4,
  "nbformat_minor": 0,
  "metadata": {
    "colab": {
      "name": "BrainMRI-CNN.ipynb",
      "provenance": [],
      "collapsed_sections": [],
      "mount_file_id": "1ZYzijANfSTvXRVJ2LoS2h-o-UaWgeQRv",
      "authorship_tag": "ABX9TyMoSmoBsVPX6TcOYtcN9nNa",
      "include_colab_link": true
    },
    "kernelspec": {
      "name": "python3",
      "display_name": "Python 3"
    },
    "language_info": {
      "name": "python"
    }
  },
  "cells": [
    {
      "cell_type": "markdown",
      "metadata": {
        "id": "view-in-github",
        "colab_type": "text"
      },
      "source": [
        "<a href=\"https://colab.research.google.com/github/holoS15/CSI_6_CSP_2122_3605631/blob/main/BrainMRI_CNN.ipynb\" target=\"_parent\"><img src=\"https://colab.research.google.com/assets/colab-badge.svg\" alt=\"Open In Colab\"/></a>"
      ]
    }
  ]
}
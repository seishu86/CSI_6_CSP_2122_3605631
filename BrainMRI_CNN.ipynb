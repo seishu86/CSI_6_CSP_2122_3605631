{
  "nbformat": 4,
  "nbformat_minor": 0,
  "metadata": {
    "colab": {
      "name": "BrainMRI-CNN.ipynb",
      "provenance": [],
      "mount_file_id": "1ZYzijANfSTvXRVJ2LoS2h-o-UaWgeQRv",
      "authorship_tag": "ABX9TyO5HU0LYrL4fP0gE4ze3YmI",
      "include_colab_link": true
    },
    "kernelspec": {
      "name": "python3",
      "display_name": "Python 3"
    },
    "language_info": {
      "name": "python"
    }
  },
  "cells": [
    {
      "cell_type": "markdown",
      "metadata": {
        "id": "view-in-github",
        "colab_type": "text"
      },
      "source": [
        "<a href=\"https://colab.research.google.com/github/holoS15/CSI_6_CSP_2122_3605631/blob/main/BrainMRI_CNN.ipynb\" target=\"_parent\"><img src=\"https://colab.research.google.com/assets/colab-badge.svg\" alt=\"Open In Colab\"/></a>"
      ]
    },
    {
      "cell_type": "code",
      "execution_count": 1,
      "metadata": {
        "id": "x593CqrpcQ-W"
      },
      "outputs": [],
      "source": [
        "# import packages\n",
        "import skimage, os\n",
        "from skimage.morphology import ball, disk, dilation, binary_erosion, remove_small_objects, erosion, closing, reconstruction, binary_closing\n",
        "from skimage.measure import label,regionprops, perimeter\n",
        "import numpy as np\n",
        "import pandas as pd\n",
        "import matplotlib.pyplot as plt\n",
        "from sklearn.model_selection import train_test_split\n",
        "from tqdm import tqdm\n",
        "from skimage.morphology import binary_dilation, binary_opening\n",
        "from skimage.filters import roberts, sobel\n",
        "from skimage import measure, feature\n",
        "from skimage.segmentation import clear_border\n",
        "from skimage import data\n",
        "from scipy import ndimage as ndi\n",
        "#!pip install keras\n",
        "import keras\n",
        "import tensorflow as tf\n",
        "from keras.models import Sequential\n",
        "from keras.layers import Dense, Dropout, Flatten\n",
        "from keras.layers import Conv2D, Conv3D, MaxPooling2D\n",
        "from keras.preprocessing import image\n",
        "%matplotlib inline\n",
        "import nibabel as nib\n",
        "import random\n",
        "import numpy as np # linear algebra\n",
        "import pandas as pd # data processing, CSV file I/O (e.g. pd.read_csv)\n",
        "from mpl_toolkits.mplot3d.art3d import Poly3DCollection\n",
        "import scipy.misc\n",
        "from glob import glob\n",
        "from skimage.io import imread\n",
        "import skimage.transform as skTrans\n",
        "from numpy import expand_dims\n",
        "from keras.preprocessing.image import load_img\n",
        "from keras.preprocessing.image import img_to_array\n",
        "from keras.preprocessing.image import ImageDataGenerator\n",
        "from matplotlib import pyplot\n",
        "# Set"
      ]
    }
  ]
}